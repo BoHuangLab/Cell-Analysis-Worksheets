{
 "cells": [
  {
   "cell_type": "markdown",
   "metadata": {},
   "source": [
    "# Cell Analysis Worksheet #2\n",
    "\n",
    "### Emaad Khwaja"
   ]
  },
  {
   "cell_type": "markdown",
   "metadata": {},
   "source": [
    "## Introduction\n",
    "\n",
    "In this notebook, we'll be seeing how exactly we go from a cellular image to a neatly organized spreadsheet. Below we have a cell image.\n",
    "\n",
    "\n",
    "<img src=\"Data/worksheet_2_mNeonGreen/cell image.jpg\" width\n",
    "    =\"400\">"
   ]
  },
  {
   "cell_type": "markdown",
   "metadata": {},
   "source": [
    "This is a 3-channel image, with each channel selecting for a different type of fluorescent protein. Notice how the intensity varies from channel to channel.\n",
    "\n",
    "<img src=\"Images/channels.jpg\" height=\"400\">"
   ]
  },
  {
   "cell_type": "markdown",
   "metadata": {},
   "source": [
    "The idea behind segmentation is fairly easy. We draw circles around each individual cell. We count the intensity of the values inside the circle, and we ignore the values outside of it. We do this for each individual cell to generate the full list that shows stats on a per cell level. Below are examples of masks on different types of cell images.\n",
    "\n",
    "<img src=\"Images/Masks.jpg\" width=\"1000\">"
   ]
  },
  {
   "cell_type": "markdown",
   "metadata": {},
   "source": [
    "In this notebook, we will analyse a cell image to characterize the population."
   ]
  },
  {
   "cell_type": "markdown",
   "metadata": {},
   "source": [
    "## Part I: Importing the Image\n",
    "\n",
    "1. Import the file labeled 'cell image.jpg' in the Data/mNeonGreen folder. Display the image using matplotlib."
   ]
  },
  {
   "cell_type": "code",
   "execution_count": null,
   "metadata": {},
   "outputs": [],
   "source": []
  },
  {
   "cell_type": "markdown",
   "metadata": {},
   "source": [
    "2. Display the individual channels of the image. The labels of these should be 'DAPI', 'FITC', and 'Alexa 594'. "
   ]
  },
  {
   "cell_type": "code",
   "execution_count": null,
   "metadata": {},
   "outputs": [],
   "source": []
  },
  {
   "cell_type": "markdown",
   "metadata": {},
   "source": [
    "3. Plot histograms of the pixel values for each channel on the same graph. "
   ]
  },
  {
   "cell_type": "code",
   "execution_count": null,
   "metadata": {},
   "outputs": [],
   "source": []
  },
  {
   "cell_type": "markdown",
   "metadata": {},
   "source": [
    "4. Compute the total brightness (Use Numpy) for each channel and determine the ratio for the image. i.e. 'DAPI' - 10%, 'FITC' - 40%, 'Alexa 594' - 50%."
   ]
  },
  {
   "cell_type": "code",
   "execution_count": null,
   "metadata": {},
   "outputs": [],
   "source": []
  },
  {
   "cell_type": "markdown",
   "metadata": {},
   "source": [
    "5. Print the mean value and standard deviation for each channel. Compare this to the mean and standard deviation of the original image."
   ]
  },
  {
   "cell_type": "code",
   "execution_count": null,
   "metadata": {},
   "outputs": [],
   "source": []
  },
  {
   "cell_type": "markdown",
   "metadata": {},
   "source": [
    "6. Notice how this array is a matrix. This means we can do matrixy things with it. This includes global arithemtic operations. Invert the image by subtracting 255 from each channel. Then combine the channels to display the inverted image. "
   ]
  },
  {
   "cell_type": "code",
   "execution_count": null,
   "metadata": {},
   "outputs": [],
   "source": []
  },
  {
   "cell_type": "markdown",
   "metadata": {},
   "source": [
    "7. Multiply the image by 2 and display. What is the result? Explain why it looks the way it does. \n",
    "\n",
    "(*Hint*: Consider the range of values possible for a JPEG image and what happens to a value larger than the possible maximum)"
   ]
  },
  {
   "cell_type": "code",
   "execution_count": null,
   "metadata": {},
   "outputs": [],
   "source": []
  },
  {
   "cell_type": "markdown",
   "metadata": {},
   "source": [
    "## Part II: Masking\n",
    "\n",
    "The mask file is of the same dimension as the cell image file but contains a single channel. Each pixel corresponds to a particular cell number. In the example below, we have 2 cells, a red and a blue one (left). In the masks image (right) the background pixels are set to 0. Any pixel containing data for the red cell is labeled with a '1' in the mask. Any pixel corresponding to the blue cell are labeled with a '2'.\n",
    "\n",
    "<img src=\"Images/mask example.jpg\" width=\"1000\">"
   ]
  },
  {
   "cell_type": "markdown",
   "metadata": {},
   "source": [
    "1. Import the masks file in the data folder. Try to display this file with matplotlib.\n",
    "\n",
    "Note that this is a TIF file instead of JPEG. Since we are assigning a number corresponding to each individual cell, we dont want to be capped at 2^8 - 1 = 255 since an image can contain thousands of cells. Because TIF is a 16-bit file format, that gives us 2^16 = 65,536 posssible values for each pixel, which is more than enough."
   ]
  },
  {
   "cell_type": "code",
   "execution_count": null,
   "metadata": {},
   "outputs": [],
   "source": []
  },
  {
   "cell_type": "markdown",
   "metadata": {},
   "source": [
    "You probably cant see much difference between each cell like in the picture. This is for 2 main reasons:\n",
    "\n",
    "1) We aren't coming anywhere close to 65,536\n",
    "\n",
    "2) We increment by 1 each time, meaning when we treat these as colors they are as close as possible.\n",
    "\n",
    "2. Display using the rainbow color map. This will be only slightly better than before. If you're feeling ambitious, create a custom color map using the 4 color theorem so there is no overlap and apply it to the image."
   ]
  },
  {
   "cell_type": "code",
   "execution_count": null,
   "metadata": {},
   "outputs": [],
   "source": []
  },
  {
   "cell_type": "markdown",
   "metadata": {},
   "source": [
    "3. Let's try to analyze a single cell. Using the masks file, create a new array that is True (or 1) where the mask number = 1 and False (or 0) everywhere else. Multiply this dataframe by the original cell image to 0 out any pixels that aren't of interest."
   ]
  },
  {
   "cell_type": "code",
   "execution_count": null,
   "metadata": {},
   "outputs": [],
   "source": []
  },
  {
   "cell_type": "markdown",
   "metadata": {},
   "source": [
    "4. Print out the mean and standard deviation of cell 1. Make sure to not consider the pixels outside of the cell area, as those 0s will artifically decrease your mean."
   ]
  },
  {
   "cell_type": "code",
   "execution_count": null,
   "metadata": {},
   "outputs": [],
   "source": []
  },
  {
   "cell_type": "markdown",
   "metadata": {},
   "source": [
    "5. Using a for loop, print out the mean and standard deviation (in a single line) for each cell."
   ]
  },
  {
   "cell_type": "code",
   "execution_count": null,
   "metadata": {},
   "outputs": [],
   "source": []
  },
  {
   "cell_type": "markdown",
   "metadata": {},
   "source": [
    "## Part III: Summary"
   ]
  },
  {
   "cell_type": "markdown",
   "metadata": {},
   "source": [
    "1. Convert the image to grayscale and use the mask file for calculation. Create a function to construct a dataframe with the following columns:\n",
    "\n",
    "a) Mask Number\n",
    "\n",
    "b) Cell Area\n",
    "\n",
    "c) Brightness (This will be the sum of the pixel values)\n",
    "\n",
    "d) Brightness Mean\n",
    "\n",
    "e) Brightness Standard Deviation\n",
    "\n",
    "f) Intensity (Brightness/Cell Area)"
   ]
  },
  {
   "cell_type": "code",
   "execution_count": null,
   "metadata": {},
   "outputs": [],
   "source": []
  },
  {
   "cell_type": "markdown",
   "metadata": {},
   "source": [
    "2. Using the function you created before, repeat this operation but this time on each channel of the original image. You can have 3 separate dataframes for each one."
   ]
  },
  {
   "cell_type": "code",
   "execution_count": null,
   "metadata": {},
   "outputs": [],
   "source": []
  },
  {
   "cell_type": "markdown",
   "metadata": {},
   "source": [
    "3. Combine all 3 dataframes into a single dataframe. You will do a join on the mask number. We will need columns c) - f) for each respective channel."
   ]
  },
  {
   "cell_type": "code",
   "execution_count": null,
   "metadata": {},
   "outputs": [],
   "source": []
  },
  {
   "cell_type": "markdown",
   "metadata": {},
   "source": [
    "## Part IV: Analysis"
   ]
  },
  {
   "cell_type": "markdown",
   "metadata": {},
   "source": [
    "1. Create a histogram for the cell sizes."
   ]
  },
  {
   "cell_type": "code",
   "execution_count": null,
   "metadata": {},
   "outputs": [],
   "source": []
  },
  {
   "cell_type": "markdown",
   "metadata": {},
   "source": [
    "2. Generate plots for the color channels similar to what was done in the last worksheet. (DAPI vs FITC) etc."
   ]
  },
  {
   "cell_type": "code",
   "execution_count": null,
   "metadata": {},
   "outputs": [],
   "source": []
  },
  {
   "cell_type": "markdown",
   "metadata": {},
   "source": [
    "3. Compute the channel ratios of the intensity channels. like you did in Part I 4), but this time on a per-cell level. Average these and to compute an \"Average Per Cell Ratio\" and compare these against the global ratio from Part I 4). Are the values different? Why?"
   ]
  },
  {
   "cell_type": "code",
   "execution_count": null,
   "metadata": {},
   "outputs": [],
   "source": []
  }
 ],
 "metadata": {
  "kernelspec": {
   "display_name": "Python 3",
   "language": "python",
   "name": "python3"
  },
  "language_info": {
   "codemirror_mode": {
    "name": "ipython",
    "version": 3
   },
   "file_extension": ".py",
   "mimetype": "text/x-python",
   "name": "python",
   "nbconvert_exporter": "python",
   "pygments_lexer": "ipython3",
   "version": "3.8.8"
  }
 },
 "nbformat": 4,
 "nbformat_minor": 4
}
