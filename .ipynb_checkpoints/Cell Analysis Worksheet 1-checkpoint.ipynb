{
 "cells": [
  {
   "cell_type": "markdown",
   "metadata": {},
   "source": [
    "# Cell Analysis Worksheet #1\n",
    "\n",
    "### Emaad Khwaja"
   ]
  },
  {
   "cell_type": "markdown",
   "metadata": {},
   "source": [
    "<div class=\"alert alert-warning\">\n",
    "    <b>NOTE</b> This worksheet is meant to be challenging. It very much represents a normal process towards analyzing cell images. Except to do a ton of Googling.\n",
    "</div>"
   ]
  },
  {
   "cell_type": "markdown",
   "metadata": {},
   "source": [
    "## Introduction\n",
    "\n",
    "Below is an example of a cell barcode. Similar to how we have RGB channels on a digital image, we acquire images of fluorophores on different channels based on the colors they emit. In an RGB image, a unique color is produced based on the ratio of the intensities within each color channel, we selectively insert unique flurophore ratios into cells to identify them."
   ]
  },
  {
   "cell_type": "markdown",
   "metadata": {},
   "source": [
    "![Cell Barcode](Images/Barcode.jpg)"
   ]
  },
  {
   "cell_type": "markdown",
   "metadata": {},
   "source": [
    "We want to select which cells in an image correspond to a unique population. The CSV file has already identified the per-channel intensity for each cell in a particular image. This file contains a mixture of different cell types."
   ]
  },
  {
   "cell_type": "markdown",
   "metadata": {},
   "source": [
    "## Pandas Basics"
   ]
  },
  {
   "cell_type": "markdown",
   "metadata": {},
   "source": [
    "![](Images/panda.png)"
   ]
  },
  {
   "cell_type": "markdown",
   "metadata": {
    "ExecuteTime": {
     "end_time": "2021-07-12T18:25:23.766121Z",
     "start_time": "2021-07-12T18:25:23.739326Z"
    }
   },
   "source": [
    "<div class=\"alert alert-warning\">\n",
    "    <b>NOTE</b> This analysis will rely on some external packages. You will need to import <i>numpy</i>, <i>pandas</i>, <i>sklearn</i>, and <i>matplotlib</i>.\n",
    "</div>"
   ]
  },
  {
   "cell_type": "markdown",
   "metadata": {},
   "source": [
    "0. Import the CSV file and convert it to a pandas dataframe. You will use this for the rest of the analysis so pick a good name for it. (i.e. cell_dataframe)"
   ]
  },
  {
   "cell_type": "code",
   "execution_count": 1,
   "metadata": {},
   "outputs": [
    {
     "data": {
      "text/html": [
       "<div>\n",
       "<style scoped>\n",
       "    .dataframe tbody tr th:only-of-type {\n",
       "        vertical-align: middle;\n",
       "    }\n",
       "\n",
       "    .dataframe tbody tr th {\n",
       "        vertical-align: top;\n",
       "    }\n",
       "\n",
       "    .dataframe thead th {\n",
       "        text-align: right;\n",
       "    }\n",
       "</style>\n",
       "<table border=\"1\" class=\"dataframe\">\n",
       "  <thead>\n",
       "    <tr style=\"text-align: right;\">\n",
       "      <th></th>\n",
       "      <th>Mask Number</th>\n",
       "      <th>Area (px^2)</th>\n",
       "      <th>Center X (px)</th>\n",
       "      <th>Center Y (px)</th>\n",
       "      <th>DAPI - Clean Intensity (Magnitude/px^2)</th>\n",
       "      <th>DAPI - Clean Standard Deviation (Magnitude)</th>\n",
       "      <th>DAPI - Clean Background Intensity (Magnitude/px^2)</th>\n",
       "      <th>FITC - Clean Intensity (Magnitude/px^2)</th>\n",
       "      <th>FITC - Clean Standard Deviation (Magnitude)</th>\n",
       "      <th>FITC - Clean Background Intensity (Magnitude/px^2)</th>\n",
       "      <th>Alexa 594 Clean (620-60) Intensity (Magnitude/px^2)</th>\n",
       "      <th>Alexa 594 Clean (620-60) Standard Deviation (Magnitude)</th>\n",
       "      <th>Alexa 594 Clean (620-60) Background Intensity (Magnitude/px^2)</th>\n",
       "    </tr>\n",
       "  </thead>\n",
       "  <tbody>\n",
       "    <tr>\n",
       "      <th>0</th>\n",
       "      <td>1</td>\n",
       "      <td>618</td>\n",
       "      <td>1966.0</td>\n",
       "      <td>64.0</td>\n",
       "      <td>121.964401</td>\n",
       "      <td>45.339834</td>\n",
       "      <td>179.626214</td>\n",
       "      <td>342.998382</td>\n",
       "      <td>126.694882</td>\n",
       "      <td>115.478964</td>\n",
       "      <td>98.608414</td>\n",
       "      <td>39.241414</td>\n",
       "      <td>91.103560</td>\n",
       "    </tr>\n",
       "    <tr>\n",
       "      <th>1</th>\n",
       "      <td>2</td>\n",
       "      <td>379</td>\n",
       "      <td>1998.0</td>\n",
       "      <td>72.0</td>\n",
       "      <td>152.277045</td>\n",
       "      <td>56.459470</td>\n",
       "      <td>176.498681</td>\n",
       "      <td>359.274406</td>\n",
       "      <td>107.507911</td>\n",
       "      <td>120.000000</td>\n",
       "      <td>132.282322</td>\n",
       "      <td>53.710344</td>\n",
       "      <td>95.907652</td>\n",
       "    </tr>\n",
       "    <tr>\n",
       "      <th>2</th>\n",
       "      <td>3</td>\n",
       "      <td>93</td>\n",
       "      <td>1978.0</td>\n",
       "      <td>82.0</td>\n",
       "      <td>99.139785</td>\n",
       "      <td>19.875477</td>\n",
       "      <td>179.000000</td>\n",
       "      <td>197.505376</td>\n",
       "      <td>24.829691</td>\n",
       "      <td>118.010753</td>\n",
       "      <td>82.440860</td>\n",
       "      <td>15.828196</td>\n",
       "      <td>89.709677</td>\n",
       "    </tr>\n",
       "    <tr>\n",
       "      <th>3</th>\n",
       "      <td>4</td>\n",
       "      <td>178</td>\n",
       "      <td>1798.0</td>\n",
       "      <td>83.0</td>\n",
       "      <td>110.466292</td>\n",
       "      <td>29.490044</td>\n",
       "      <td>204.000000</td>\n",
       "      <td>223.460674</td>\n",
       "      <td>44.608544</td>\n",
       "      <td>115.000000</td>\n",
       "      <td>100.769663</td>\n",
       "      <td>24.566243</td>\n",
       "      <td>89.000000</td>\n",
       "    </tr>\n",
       "    <tr>\n",
       "      <th>4</th>\n",
       "      <td>5</td>\n",
       "      <td>226</td>\n",
       "      <td>1819.0</td>\n",
       "      <td>86.0</td>\n",
       "      <td>104.017699</td>\n",
       "      <td>24.913533</td>\n",
       "      <td>203.672566</td>\n",
       "      <td>176.044248</td>\n",
       "      <td>28.216903</td>\n",
       "      <td>115.000000</td>\n",
       "      <td>80.243363</td>\n",
       "      <td>19.597462</td>\n",
       "      <td>89.000000</td>\n",
       "    </tr>\n",
       "    <tr>\n",
       "      <th>...</th>\n",
       "      <td>...</td>\n",
       "      <td>...</td>\n",
       "      <td>...</td>\n",
       "      <td>...</td>\n",
       "      <td>...</td>\n",
       "      <td>...</td>\n",
       "      <td>...</td>\n",
       "      <td>...</td>\n",
       "      <td>...</td>\n",
       "      <td>...</td>\n",
       "      <td>...</td>\n",
       "      <td>...</td>\n",
       "      <td>...</td>\n",
       "    </tr>\n",
       "    <tr>\n",
       "      <th>2305</th>\n",
       "      <td>2306</td>\n",
       "      <td>263</td>\n",
       "      <td>1224.0</td>\n",
       "      <td>2041.0</td>\n",
       "      <td>484.353612</td>\n",
       "      <td>65.225093</td>\n",
       "      <td>218.000000</td>\n",
       "      <td>168.825095</td>\n",
       "      <td>211.105886</td>\n",
       "      <td>122.000000</td>\n",
       "      <td>182.391635</td>\n",
       "      <td>78.151416</td>\n",
       "      <td>76.000000</td>\n",
       "    </tr>\n",
       "    <tr>\n",
       "      <th>2306</th>\n",
       "      <td>2307</td>\n",
       "      <td>289</td>\n",
       "      <td>1279.0</td>\n",
       "      <td>2041.0</td>\n",
       "      <td>446.491350</td>\n",
       "      <td>46.772739</td>\n",
       "      <td>215.000000</td>\n",
       "      <td>144.110727</td>\n",
       "      <td>196.339897</td>\n",
       "      <td>121.190311</td>\n",
       "      <td>150.394464</td>\n",
       "      <td>57.118634</td>\n",
       "      <td>77.000000</td>\n",
       "    </tr>\n",
       "    <tr>\n",
       "      <th>2307</th>\n",
       "      <td>2308</td>\n",
       "      <td>160</td>\n",
       "      <td>1363.0</td>\n",
       "      <td>2041.0</td>\n",
       "      <td>309.000000</td>\n",
       "      <td>22.979269</td>\n",
       "      <td>213.950000</td>\n",
       "      <td>82.668750</td>\n",
       "      <td>52.099204</td>\n",
       "      <td>112.000000</td>\n",
       "      <td>64.181250</td>\n",
       "      <td>13.587764</td>\n",
       "      <td>87.000000</td>\n",
       "    </tr>\n",
       "    <tr>\n",
       "      <th>2308</th>\n",
       "      <td>2309</td>\n",
       "      <td>97</td>\n",
       "      <td>1846.0</td>\n",
       "      <td>2044.0</td>\n",
       "      <td>423.072165</td>\n",
       "      <td>26.934964</td>\n",
       "      <td>174.804124</td>\n",
       "      <td>103.865979</td>\n",
       "      <td>100.361144</td>\n",
       "      <td>121.000000</td>\n",
       "      <td>111.216495</td>\n",
       "      <td>28.652453</td>\n",
       "      <td>86.000000</td>\n",
       "    </tr>\n",
       "    <tr>\n",
       "      <th>2309</th>\n",
       "      <td>2310</td>\n",
       "      <td>29</td>\n",
       "      <td>2023.0</td>\n",
       "      <td>2045.0</td>\n",
       "      <td>426.517241</td>\n",
       "      <td>29.163418</td>\n",
       "      <td>155.172414</td>\n",
       "      <td>112.172414</td>\n",
       "      <td>68.801796</td>\n",
       "      <td>104.206897</td>\n",
       "      <td>144.931035</td>\n",
       "      <td>31.219192</td>\n",
       "      <td>89.000000</td>\n",
       "    </tr>\n",
       "  </tbody>\n",
       "</table>\n",
       "<p>2310 rows × 13 columns</p>\n",
       "</div>"
      ],
      "text/plain": [
       "      Mask Number  Area (px^2)  Center X (px)  Center Y (px)  \\\n",
       "0               1          618         1966.0           64.0   \n",
       "1               2          379         1998.0           72.0   \n",
       "2               3           93         1978.0           82.0   \n",
       "3               4          178         1798.0           83.0   \n",
       "4               5          226         1819.0           86.0   \n",
       "...           ...          ...            ...            ...   \n",
       "2305         2306          263         1224.0         2041.0   \n",
       "2306         2307          289         1279.0         2041.0   \n",
       "2307         2308          160         1363.0         2041.0   \n",
       "2308         2309           97         1846.0         2044.0   \n",
       "2309         2310           29         2023.0         2045.0   \n",
       "\n",
       "      DAPI - Clean Intensity (Magnitude/px^2)  \\\n",
       "0                                  121.964401   \n",
       "1                                  152.277045   \n",
       "2                                   99.139785   \n",
       "3                                  110.466292   \n",
       "4                                  104.017699   \n",
       "...                                       ...   \n",
       "2305                               484.353612   \n",
       "2306                               446.491350   \n",
       "2307                               309.000000   \n",
       "2308                               423.072165   \n",
       "2309                               426.517241   \n",
       "\n",
       "      DAPI - Clean Standard Deviation (Magnitude)  \\\n",
       "0                                       45.339834   \n",
       "1                                       56.459470   \n",
       "2                                       19.875477   \n",
       "3                                       29.490044   \n",
       "4                                       24.913533   \n",
       "...                                           ...   \n",
       "2305                                    65.225093   \n",
       "2306                                    46.772739   \n",
       "2307                                    22.979269   \n",
       "2308                                    26.934964   \n",
       "2309                                    29.163418   \n",
       "\n",
       "      DAPI - Clean Background Intensity (Magnitude/px^2)  \\\n",
       "0                                            179.626214    \n",
       "1                                            176.498681    \n",
       "2                                            179.000000    \n",
       "3                                            204.000000    \n",
       "4                                            203.672566    \n",
       "...                                                 ...    \n",
       "2305                                         218.000000    \n",
       "2306                                         215.000000    \n",
       "2307                                         213.950000    \n",
       "2308                                         174.804124    \n",
       "2309                                         155.172414    \n",
       "\n",
       "      FITC - Clean Intensity (Magnitude/px^2)  \\\n",
       "0                                  342.998382   \n",
       "1                                  359.274406   \n",
       "2                                  197.505376   \n",
       "3                                  223.460674   \n",
       "4                                  176.044248   \n",
       "...                                       ...   \n",
       "2305                               168.825095   \n",
       "2306                               144.110727   \n",
       "2307                                82.668750   \n",
       "2308                               103.865979   \n",
       "2309                               112.172414   \n",
       "\n",
       "      FITC - Clean Standard Deviation (Magnitude)  \\\n",
       "0                                      126.694882   \n",
       "1                                      107.507911   \n",
       "2                                       24.829691   \n",
       "3                                       44.608544   \n",
       "4                                       28.216903   \n",
       "...                                           ...   \n",
       "2305                                   211.105886   \n",
       "2306                                   196.339897   \n",
       "2307                                    52.099204   \n",
       "2308                                   100.361144   \n",
       "2309                                    68.801796   \n",
       "\n",
       "      FITC - Clean Background Intensity (Magnitude/px^2)  \\\n",
       "0                                            115.478964    \n",
       "1                                            120.000000    \n",
       "2                                            118.010753    \n",
       "3                                            115.000000    \n",
       "4                                            115.000000    \n",
       "...                                                 ...    \n",
       "2305                                         122.000000    \n",
       "2306                                         121.190311    \n",
       "2307                                         112.000000    \n",
       "2308                                         121.000000    \n",
       "2309                                         104.206897    \n",
       "\n",
       "      Alexa 594 Clean (620-60) Intensity (Magnitude/px^2)  \\\n",
       "0                                             98.608414     \n",
       "1                                            132.282322     \n",
       "2                                             82.440860     \n",
       "3                                            100.769663     \n",
       "4                                             80.243363     \n",
       "...                                                 ...     \n",
       "2305                                         182.391635     \n",
       "2306                                         150.394464     \n",
       "2307                                          64.181250     \n",
       "2308                                         111.216495     \n",
       "2309                                         144.931035     \n",
       "\n",
       "      Alexa 594 Clean (620-60) Standard Deviation (Magnitude)  \\\n",
       "0                                             39.241414         \n",
       "1                                             53.710344         \n",
       "2                                             15.828196         \n",
       "3                                             24.566243         \n",
       "4                                             19.597462         \n",
       "...                                                 ...         \n",
       "2305                                          78.151416         \n",
       "2306                                          57.118634         \n",
       "2307                                          13.587764         \n",
       "2308                                          28.652453         \n",
       "2309                                          31.219192         \n",
       "\n",
       "      Alexa 594 Clean (620-60) Background Intensity (Magnitude/px^2)  \n",
       "0                                             91.103560               \n",
       "1                                             95.907652               \n",
       "2                                             89.709677               \n",
       "3                                             89.000000               \n",
       "4                                             89.000000               \n",
       "...                                                 ...               \n",
       "2305                                          76.000000               \n",
       "2306                                          77.000000               \n",
       "2307                                          87.000000               \n",
       "2308                                          86.000000               \n",
       "2309                                          89.000000               \n",
       "\n",
       "[2310 rows x 13 columns]"
      ]
     },
     "execution_count": 1,
     "metadata": {},
     "output_type": "execute_result"
    }
   ],
   "source": [
    "import pandas as pd\n",
    "pdcellframe = pd.read_csv(\"./worksheet_1_cell_channel_intensities.csv\")\n",
    "\n",
    "pdcellframe"
   ]
  },
  {
   "cell_type": "markdown",
   "metadata": {},
   "source": [
    "1. Use the .head() and .tail() commands to visualize parts of the dataframe"
   ]
  },
  {
   "cell_type": "code",
   "execution_count": 2,
   "metadata": {},
   "outputs": [
    {
     "data": {
      "text/html": [
       "<div>\n",
       "<style scoped>\n",
       "    .dataframe tbody tr th:only-of-type {\n",
       "        vertical-align: middle;\n",
       "    }\n",
       "\n",
       "    .dataframe tbody tr th {\n",
       "        vertical-align: top;\n",
       "    }\n",
       "\n",
       "    .dataframe thead th {\n",
       "        text-align: right;\n",
       "    }\n",
       "</style>\n",
       "<table border=\"1\" class=\"dataframe\">\n",
       "  <thead>\n",
       "    <tr style=\"text-align: right;\">\n",
       "      <th></th>\n",
       "      <th>Mask Number</th>\n",
       "      <th>Area (px^2)</th>\n",
       "      <th>Center X (px)</th>\n",
       "      <th>Center Y (px)</th>\n",
       "      <th>DAPI - Clean Intensity (Magnitude/px^2)</th>\n",
       "      <th>DAPI - Clean Standard Deviation (Magnitude)</th>\n",
       "      <th>DAPI - Clean Background Intensity (Magnitude/px^2)</th>\n",
       "      <th>FITC - Clean Intensity (Magnitude/px^2)</th>\n",
       "      <th>FITC - Clean Standard Deviation (Magnitude)</th>\n",
       "      <th>FITC - Clean Background Intensity (Magnitude/px^2)</th>\n",
       "      <th>Alexa 594 Clean (620-60) Intensity (Magnitude/px^2)</th>\n",
       "      <th>Alexa 594 Clean (620-60) Standard Deviation (Magnitude)</th>\n",
       "      <th>Alexa 594 Clean (620-60) Background Intensity (Magnitude/px^2)</th>\n",
       "    </tr>\n",
       "  </thead>\n",
       "  <tbody>\n",
       "    <tr>\n",
       "      <th>2305</th>\n",
       "      <td>2306</td>\n",
       "      <td>263</td>\n",
       "      <td>1224.0</td>\n",
       "      <td>2041.0</td>\n",
       "      <td>484.353612</td>\n",
       "      <td>65.225093</td>\n",
       "      <td>218.000000</td>\n",
       "      <td>168.825095</td>\n",
       "      <td>211.105886</td>\n",
       "      <td>122.000000</td>\n",
       "      <td>182.391635</td>\n",
       "      <td>78.151416</td>\n",
       "      <td>76.0</td>\n",
       "    </tr>\n",
       "    <tr>\n",
       "      <th>2306</th>\n",
       "      <td>2307</td>\n",
       "      <td>289</td>\n",
       "      <td>1279.0</td>\n",
       "      <td>2041.0</td>\n",
       "      <td>446.491350</td>\n",
       "      <td>46.772739</td>\n",
       "      <td>215.000000</td>\n",
       "      <td>144.110727</td>\n",
       "      <td>196.339897</td>\n",
       "      <td>121.190311</td>\n",
       "      <td>150.394464</td>\n",
       "      <td>57.118634</td>\n",
       "      <td>77.0</td>\n",
       "    </tr>\n",
       "    <tr>\n",
       "      <th>2307</th>\n",
       "      <td>2308</td>\n",
       "      <td>160</td>\n",
       "      <td>1363.0</td>\n",
       "      <td>2041.0</td>\n",
       "      <td>309.000000</td>\n",
       "      <td>22.979269</td>\n",
       "      <td>213.950000</td>\n",
       "      <td>82.668750</td>\n",
       "      <td>52.099204</td>\n",
       "      <td>112.000000</td>\n",
       "      <td>64.181250</td>\n",
       "      <td>13.587764</td>\n",
       "      <td>87.0</td>\n",
       "    </tr>\n",
       "    <tr>\n",
       "      <th>2308</th>\n",
       "      <td>2309</td>\n",
       "      <td>97</td>\n",
       "      <td>1846.0</td>\n",
       "      <td>2044.0</td>\n",
       "      <td>423.072165</td>\n",
       "      <td>26.934964</td>\n",
       "      <td>174.804124</td>\n",
       "      <td>103.865979</td>\n",
       "      <td>100.361144</td>\n",
       "      <td>121.000000</td>\n",
       "      <td>111.216495</td>\n",
       "      <td>28.652453</td>\n",
       "      <td>86.0</td>\n",
       "    </tr>\n",
       "    <tr>\n",
       "      <th>2309</th>\n",
       "      <td>2310</td>\n",
       "      <td>29</td>\n",
       "      <td>2023.0</td>\n",
       "      <td>2045.0</td>\n",
       "      <td>426.517241</td>\n",
       "      <td>29.163418</td>\n",
       "      <td>155.172414</td>\n",
       "      <td>112.172414</td>\n",
       "      <td>68.801796</td>\n",
       "      <td>104.206897</td>\n",
       "      <td>144.931035</td>\n",
       "      <td>31.219192</td>\n",
       "      <td>89.0</td>\n",
       "    </tr>\n",
       "  </tbody>\n",
       "</table>\n",
       "</div>"
      ],
      "text/plain": [
       "      Mask Number  Area (px^2)  Center X (px)  Center Y (px)  \\\n",
       "2305         2306          263         1224.0         2041.0   \n",
       "2306         2307          289         1279.0         2041.0   \n",
       "2307         2308          160         1363.0         2041.0   \n",
       "2308         2309           97         1846.0         2044.0   \n",
       "2309         2310           29         2023.0         2045.0   \n",
       "\n",
       "      DAPI - Clean Intensity (Magnitude/px^2)  \\\n",
       "2305                               484.353612   \n",
       "2306                               446.491350   \n",
       "2307                               309.000000   \n",
       "2308                               423.072165   \n",
       "2309                               426.517241   \n",
       "\n",
       "      DAPI - Clean Standard Deviation (Magnitude)  \\\n",
       "2305                                    65.225093   \n",
       "2306                                    46.772739   \n",
       "2307                                    22.979269   \n",
       "2308                                    26.934964   \n",
       "2309                                    29.163418   \n",
       "\n",
       "      DAPI - Clean Background Intensity (Magnitude/px^2)  \\\n",
       "2305                                         218.000000    \n",
       "2306                                         215.000000    \n",
       "2307                                         213.950000    \n",
       "2308                                         174.804124    \n",
       "2309                                         155.172414    \n",
       "\n",
       "      FITC - Clean Intensity (Magnitude/px^2)  \\\n",
       "2305                               168.825095   \n",
       "2306                               144.110727   \n",
       "2307                                82.668750   \n",
       "2308                               103.865979   \n",
       "2309                               112.172414   \n",
       "\n",
       "      FITC - Clean Standard Deviation (Magnitude)  \\\n",
       "2305                                   211.105886   \n",
       "2306                                   196.339897   \n",
       "2307                                    52.099204   \n",
       "2308                                   100.361144   \n",
       "2309                                    68.801796   \n",
       "\n",
       "      FITC - Clean Background Intensity (Magnitude/px^2)  \\\n",
       "2305                                         122.000000    \n",
       "2306                                         121.190311    \n",
       "2307                                         112.000000    \n",
       "2308                                         121.000000    \n",
       "2309                                         104.206897    \n",
       "\n",
       "      Alexa 594 Clean (620-60) Intensity (Magnitude/px^2)  \\\n",
       "2305                                         182.391635     \n",
       "2306                                         150.394464     \n",
       "2307                                          64.181250     \n",
       "2308                                         111.216495     \n",
       "2309                                         144.931035     \n",
       "\n",
       "      Alexa 594 Clean (620-60) Standard Deviation (Magnitude)  \\\n",
       "2305                                          78.151416         \n",
       "2306                                          57.118634         \n",
       "2307                                          13.587764         \n",
       "2308                                          28.652453         \n",
       "2309                                          31.219192         \n",
       "\n",
       "      Alexa 594 Clean (620-60) Background Intensity (Magnitude/px^2)  \n",
       "2305                                               76.0               \n",
       "2306                                               77.0               \n",
       "2307                                               87.0               \n",
       "2308                                               86.0               \n",
       "2309                                               89.0               "
      ]
     },
     "execution_count": 2,
     "metadata": {},
     "output_type": "execute_result"
    }
   ],
   "source": [
    "pdcellframe.head()\n",
    "\n",
    "\n",
    "pdcellframe.tail()"
   ]
  },
  {
   "cell_type": "markdown",
   "metadata": {},
   "source": [
    "## Cell Stats"
   ]
  },
  {
   "cell_type": "markdown",
   "metadata": {},
   "source": [
    "![](Images/histogram.png)"
   ]
  },
  {
   "cell_type": "markdown",
   "metadata": {},
   "source": [
    "1. Using the Area (px^2) column, calculate the average cell area. What is the standard deviation?"
   ]
  },
  {
   "cell_type": "code",
   "execution_count": 3,
   "metadata": {},
   "outputs": [
    {
     "data": {
      "text/plain": [
       "Index(['Mask Number', 'Area (px^2)', 'Center X (px)', 'Center Y (px)',\n",
       "       'DAPI - Clean Intensity (Magnitude/px^2)',\n",
       "       'DAPI - Clean Standard Deviation (Magnitude)',\n",
       "       'DAPI - Clean Background Intensity (Magnitude/px^2)',\n",
       "       'FITC - Clean Intensity (Magnitude/px^2)',\n",
       "       'FITC - Clean Standard Deviation (Magnitude)',\n",
       "       'FITC - Clean Background Intensity (Magnitude/px^2)',\n",
       "       'Alexa 594 Clean (620-60) Intensity (Magnitude/px^2)',\n",
       "       'Alexa 594 Clean (620-60) Standard Deviation (Magnitude)',\n",
       "       'Alexa 594 Clean (620-60) Background Intensity (Magnitude/px^2)'],\n",
       "      dtype='object')"
      ]
     },
     "execution_count": 3,
     "metadata": {},
     "output_type": "execute_result"
    }
   ],
   "source": [
    "pdcellframe.keys()"
   ]
  },
  {
   "cell_type": "code",
   "execution_count": 4,
   "metadata": {},
   "outputs": [
    {
     "data": {
      "text/plain": [
       "341.23203463203464"
      ]
     },
     "execution_count": 4,
     "metadata": {},
     "output_type": "execute_result"
    }
   ],
   "source": [
    "import numpy as np\n",
    "\n",
    "pdcellframe\n",
    "np.mean(pdcellframe.loc[:, 'Area (px^2)'])\n",
    "\n"
   ]
  },
  {
   "cell_type": "code",
   "execution_count": 5,
   "metadata": {},
   "outputs": [
    {
     "data": {
      "text/plain": [
       "168.17284158504788"
      ]
     },
     "execution_count": 5,
     "metadata": {},
     "output_type": "execute_result"
    }
   ],
   "source": [
    "pdcellframe[\"Area (px^2)\"].std()"
   ]
  },
  {
   "cell_type": "markdown",
   "metadata": {},
   "source": [
    "2. Create a frequency histogram of the cell areas."
   ]
  },
  {
   "cell_type": "code",
   "execution_count": 6,
   "metadata": {},
   "outputs": [
    {
     "name": "stdout",
     "output_type": "stream",
     "text": [
      "0       618\n",
      "1       379\n",
      "2        93\n",
      "3       178\n",
      "4       226\n",
      "       ... \n",
      "2305    263\n",
      "2306    289\n",
      "2307    160\n",
      "2308     97\n",
      "2309     29\n",
      "Name: Area (px^2), Length: 2310, dtype: int64\n"
     ]
    },
    {
     "data": {
      "image/png": "[encoded data removed]",
      "text/plain": [
       "<Figure size 432x288 with 1 Axes>"
      ]
     },
     "metadata": {
      "needs_background": "light"
     },
     "output_type": "display_data"
    }
   ],
   "source": [
    "import matplotlib.pyplot as plt\n",
    "print(pdcellframe[\"Area (px^2)\"])\n",
    "n, bins, patches = plt.hist(x=pdcellframe[\"Area (px^2)\"], bins= \"auto\", color='#0504aa', alpha=0.7, rwidth=0.85)\n",
    "plt.grid(axis='y', alpha=0.75)"
   ]
  },
  {
   "cell_type": "markdown",
   "metadata": {},
   "source": [
    "3. How big is the largest cell? What is the mask number corresponding to this cell?"
   ]
  },
  {
   "cell_type": "code",
   "execution_count": 7,
   "metadata": {},
   "outputs": [
    {
     "name": "stdout",
     "output_type": "stream",
     "text": [
      "[ 590 , 1575 ]\n",
      "[ 1745 , 1575 ]\n"
     ]
    }
   ],
   "source": [
    "column = pdcellframe[\"Area (px^2)\"]\n",
    "maxvalue = column.max()\n",
    "pdcellframe.index[maxvalue]\n",
    "\n",
    "dababy = pdcellframe[pdcellframe[\"Area (px^2)\"]== maxvalue].index\n",
    "s = pdcellframe[\"Mask Number\"]\n",
    "for i in dababy:\n",
    "    print(\"[\", s[i], \",\", pdcellframe.index[maxvalue], \"]\")\n",
    "\n",
    "    \n",
    "        "
   ]
  },
  {
   "cell_type": "code",
   "execution_count": 8,
   "metadata": {},
   "outputs": [
    {
     "data": {
      "text/html": [
       "<div>\n",
       "<style scoped>\n",
       "    .dataframe tbody tr th:only-of-type {\n",
       "        vertical-align: middle;\n",
       "    }\n",
       "\n",
       "    .dataframe tbody tr th {\n",
       "        vertical-align: top;\n",
       "    }\n",
       "\n",
       "    .dataframe thead th {\n",
       "        text-align: right;\n",
       "    }\n",
       "</style>\n",
       "<table border=\"1\" class=\"dataframe\">\n",
       "  <thead>\n",
       "    <tr style=\"text-align: right;\">\n",
       "      <th></th>\n",
       "      <th>Mask Number</th>\n",
       "      <th>Area (px^2)</th>\n",
       "      <th>Center X (px)</th>\n",
       "      <th>Center Y (px)</th>\n",
       "      <th>DAPI - Clean Intensity (Magnitude/px^2)</th>\n",
       "      <th>DAPI - Clean Standard Deviation (Magnitude)</th>\n",
       "      <th>DAPI - Clean Background Intensity (Magnitude/px^2)</th>\n",
       "      <th>FITC - Clean Intensity (Magnitude/px^2)</th>\n",
       "      <th>FITC - Clean Standard Deviation (Magnitude)</th>\n",
       "      <th>FITC - Clean Background Intensity (Magnitude/px^2)</th>\n",
       "      <th>Alexa 594 Clean (620-60) Intensity (Magnitude/px^2)</th>\n",
       "      <th>Alexa 594 Clean (620-60) Standard Deviation (Magnitude)</th>\n",
       "      <th>Alexa 594 Clean (620-60) Background Intensity (Magnitude/px^2)</th>\n",
       "    </tr>\n",
       "  </thead>\n",
       "  <tbody>\n",
       "    <tr>\n",
       "      <th>589</th>\n",
       "      <td>590</td>\n",
       "      <td>1575</td>\n",
       "      <td>1183.0</td>\n",
       "      <td>1156.5</td>\n",
       "      <td>278.019682</td>\n",
       "      <td>70.733111</td>\n",
       "      <td>271.215873</td>\n",
       "      <td>546.399365</td>\n",
       "      <td>114.838481</td>\n",
       "      <td>131.025397</td>\n",
       "      <td>167.601905</td>\n",
       "      <td>47.452065</td>\n",
       "      <td>98.862222</td>\n",
       "    </tr>\n",
       "    <tr>\n",
       "      <th>1744</th>\n",
       "      <td>1745</td>\n",
       "      <td>1575</td>\n",
       "      <td>1183.0</td>\n",
       "      <td>1156.5</td>\n",
       "      <td>546.399365</td>\n",
       "      <td>70.733111</td>\n",
       "      <td>271.215873</td>\n",
       "      <td>278.019682</td>\n",
       "      <td>114.838481</td>\n",
       "      <td>131.025397</td>\n",
       "      <td>167.601905</td>\n",
       "      <td>47.452065</td>\n",
       "      <td>98.862222</td>\n",
       "    </tr>\n",
       "  </tbody>\n",
       "</table>\n",
       "</div>"
      ],
      "text/plain": [
       "      Mask Number  Area (px^2)  Center X (px)  Center Y (px)  \\\n",
       "589           590         1575         1183.0         1156.5   \n",
       "1744         1745         1575         1183.0         1156.5   \n",
       "\n",
       "      DAPI - Clean Intensity (Magnitude/px^2)  \\\n",
       "589                                278.019682   \n",
       "1744                               546.399365   \n",
       "\n",
       "      DAPI - Clean Standard Deviation (Magnitude)  \\\n",
       "589                                     70.733111   \n",
       "1744                                    70.733111   \n",
       "\n",
       "      DAPI - Clean Background Intensity (Magnitude/px^2)  \\\n",
       "589                                          271.215873    \n",
       "1744                                         271.215873    \n",
       "\n",
       "      FITC - Clean Intensity (Magnitude/px^2)  \\\n",
       "589                                546.399365   \n",
       "1744                               278.019682   \n",
       "\n",
       "      FITC - Clean Standard Deviation (Magnitude)  \\\n",
       "589                                    114.838481   \n",
       "1744                                   114.838481   \n",
       "\n",
       "      FITC - Clean Background Intensity (Magnitude/px^2)  \\\n",
       "589                                          131.025397    \n",
       "1744                                         131.025397    \n",
       "\n",
       "      Alexa 594 Clean (620-60) Intensity (Magnitude/px^2)  \\\n",
       "589                                          167.601905     \n",
       "1744                                         167.601905     \n",
       "\n",
       "      Alexa 594 Clean (620-60) Standard Deviation (Magnitude)  \\\n",
       "589                                           47.452065         \n",
       "1744                                          47.452065         \n",
       "\n",
       "      Alexa 594 Clean (620-60) Background Intensity (Magnitude/px^2)  \n",
       "589                                           98.862222               \n",
       "1744                                          98.862222               "
      ]
     },
     "execution_count": 8,
     "metadata": {},
     "output_type": "execute_result"
    }
   ],
   "source": [
    "pdcellframe[pdcellframe[\"Area (px^2)\"] == maxvalue]"
   ]
  },
  {
   "cell_type": "code",
   "execution_count": 9,
   "metadata": {},
   "outputs": [
    {
     "data": {
      "text/plain": [
       "0       618\n",
       "1       379\n",
       "2        93\n",
       "3       178\n",
       "4       226\n",
       "       ... \n",
       "2305    263\n",
       "2306    289\n",
       "2307    160\n",
       "2308     97\n",
       "2309     29\n",
       "Name: Area (px^2), Length: 2310, dtype: int64"
      ]
     },
     "execution_count": 9,
     "metadata": {},
     "output_type": "execute_result"
    }
   ],
   "source": [
    "pdcellframe[\"Area (px^2)\"]"
   ]
  },
  {
   "cell_type": "markdown",
   "metadata": {},
   "source": [
    "## Population Identification"
   ]
  },
  {
   "cell_type": "markdown",
   "metadata": {},
   "source": [
    "1. We need to calculate the relative ratios of each color channel. Create a new column (pandas) which is a sum of every column labeled (Clean Intensity (Magnitude/px^2))."
   ]
  },
  {
   "cell_type": "code",
   "execution_count": 10,
   "metadata": {},
   "outputs": [
    {
     "data": {
      "text/plain": [
       "Index(['Mask Number', 'Area (px^2)', 'Center X (px)', 'Center Y (px)',\n",
       "       'DAPI - Clean Intensity (Magnitude/px^2)',\n",
       "       'DAPI - Clean Standard Deviation (Magnitude)',\n",
       "       'DAPI - Clean Background Intensity (Magnitude/px^2)',\n",
       "       'FITC - Clean Intensity (Magnitude/px^2)',\n",
       "       'FITC - Clean Standard Deviation (Magnitude)',\n",
       "       'FITC - Clean Background Intensity (Magnitude/px^2)',\n",
       "       'Alexa 594 Clean (620-60) Intensity (Magnitude/px^2)',\n",
       "       'Alexa 594 Clean (620-60) Standard Deviation (Magnitude)',\n",
       "       'Alexa 594 Clean (620-60) Background Intensity (Magnitude/px^2)'],\n",
       "      dtype='object')"
      ]
     },
     "execution_count": 10,
     "metadata": {},
     "output_type": "execute_result"
    }
   ],
   "source": [
    "pdcellframe.keys()"
   ]
  },
  {
   "cell_type": "code",
   "execution_count": 35,
   "metadata": {},
   "outputs": [
    {
     "data": {
      "text/plain": [
       "0       563.571197\n",
       "1       643.833773\n",
       "2       379.086021\n",
       "3       434.696629\n",
       "4       360.305310\n",
       "           ...    \n",
       "2305    835.570342\n",
       "2306    740.996540\n",
       "2307    455.850000\n",
       "2308    638.154639\n",
       "2309    683.620690\n",
       "Name: results, Length: 2310, dtype: float64"
      ]
     },
     "execution_count": 35,
     "metadata": {},
     "output_type": "execute_result"
    }
   ],
   "source": [
    "pdcellframelist=['DAPI - Clean Intensity (Magnitude/px^2)', 'FITC - Clean Intensity (Magnitude/px^2)', 'Alexa 594 Clean (620-60) Intensity (Magnitude/px^2)']\n",
    "pdcellframe['results'] = pdcellframe[pdcellframelist].sum(axis=1)\n",
    "\n",
    "pdcellframe['results']"
   ]
  },
  {
   "cell_type": "markdown",
   "metadata": {},
   "source": [
    "2. Plot a frequency histogram of the summation column."
   ]
  },
  {
   "cell_type": "code",
   "execution_count": 12,
   "metadata": {},
   "outputs": [
    {
     "data": {
      "image/png": "[encoded data removed]",
      "text/plain": [
       "<Figure size 432x288 with 1 Axes>"
      ]
     },
     "metadata": {
      "needs_background": "light"
     },
     "output_type": "display_data"
    }
   ],
   "source": [
    "n, bins, patches = plt.hist(x=pdcellframe[\"results\"], bins= \"auto\", color='#0504aa', alpha=0.7, rwidth=0.85)\n",
    "plt.grid(axis='y', alpha=0.75)"
   ]
  },
  {
   "cell_type": "markdown",
   "metadata": {},
   "source": [
    "3. Now create 3 more columns which correspond to the relative ratio of each channel to the newly created sum column. "
   ]
  },
  {
   "cell_type": "code",
   "execution_count": 13,
   "metadata": {},
   "outputs": [
    {
     "data": {
      "text/plain": [
       "0       0.216413\n",
       "1       0.236516\n",
       "2       0.261523\n",
       "3       0.254123\n",
       "4       0.288693\n",
       "          ...   \n",
       "2305    0.579668\n",
       "2306    0.602555\n",
       "2307    0.677855\n",
       "2308    0.662962\n",
       "2309    0.623909\n",
       "Name: DAPIratio, Length: 2310, dtype: float64"
      ]
     },
     "execution_count": 13,
     "metadata": {},
     "output_type": "execute_result"
    }
   ],
   "source": [
    "pdcellframe['DAPIratio'] = pdcellframe['DAPI - Clean Intensity (Magnitude/px^2)']/pdcellframe[\"results\"]\n",
    "pdcellframe['FITCratio'] = pdcellframe['FITC - Clean Intensity (Magnitude/px^2)']/pdcellframe[\"results\"]\n",
    "pdcellframe['ALEXAratio'] = pdcellframe['Alexa 594 Clean (620-60) Intensity (Magnitude/px^2)']/pdcellframe[\"results\"]\n",
    "\n",
    "pdcellframe['DAPIratio']"
   ]
  },
  {
   "cell_type": "code",
   "execution_count": 14,
   "metadata": {},
   "outputs": [
    {
     "data": {
      "text/plain": [
       "0       0.608616\n",
       "1       0.558024\n",
       "2       0.521004\n",
       "3       0.514061\n",
       "4       0.488597\n",
       "          ...   \n",
       "2305    0.202048\n",
       "2306    0.194482\n",
       "2307    0.181351\n",
       "2308    0.162760\n",
       "2309    0.164086\n",
       "Name: FITCratio, Length: 2310, dtype: float64"
      ]
     },
     "execution_count": 14,
     "metadata": {},
     "output_type": "execute_result"
    }
   ],
   "source": [
    "pdcellframe['FITCratio']"
   ]
  },
  {
   "cell_type": "code",
   "execution_count": 15,
   "metadata": {},
   "outputs": [
    {
     "data": {
      "text/plain": [
       "0       0.174971\n",
       "1       0.205460\n",
       "2       0.217473\n",
       "3       0.231816\n",
       "4       0.222709\n",
       "          ...   \n",
       "2305    0.218284\n",
       "2306    0.202962\n",
       "2307    0.140795\n",
       "2308    0.174278\n",
       "2309    0.212005\n",
       "Name: ALEXAratio, Length: 2310, dtype: float64"
      ]
     },
     "execution_count": 15,
     "metadata": {},
     "output_type": "execute_result"
    }
   ],
   "source": [
    "pdcellframe['ALEXAratio']"
   ]
  },
  {
   "cell_type": "markdown",
   "metadata": {},
   "source": [
    "4. Using the newly created relative ratio columns, create 3 scatterplots with the following axes:\n",
    "\n",
    "a) DAPI vs FITC\n",
    "\n",
    "b) FITC vs Alexa-594\n",
    "\n",
    "c) DAPI vs Alexa-594\n",
    "\n",
    "Bonus: Make a 3D scatter plot with all 3 color channels\n",
    "\n",
    "How many cell populations do we appear to have based on these three plots?"
   ]
  },
  {
   "cell_type": "code",
   "execution_count": 30,
   "metadata": {},
   "outputs": [
    {
     "data": {
      "image/png": "[encoded data removed]",
      "text/plain": [
       "<Figure size 432x288 with 1 Axes>"
      ]
     },
     "metadata": {
      "needs_background": "light"
     },
     "output_type": "display_data"
    },
    {
     "data": {
      "image/png": "[encoded data removed]",
      "text/plain": [
       "<Figure size 432x288 with 1 Axes>"
      ]
     },
     "metadata": {
      "needs_background": "light"
     },
     "output_type": "display_data"
    },
    {
     "data": {
      "image/png": "[encoded data removed]",
      "text/plain": [
       "<Figure size 432x288 with 1 Axes>"
      ]
     },
     "metadata": {
      "needs_background": "light"
     },
     "output_type": "display_data"
    }
   ],
   "source": [
    "#Dscat = pdcellframe.plot.scatter(x = \"Mask Number\", y = [\"DAPIratio\", \"FITCratio\"], c = \"g\")\n",
    "#Fscat = pdcellframe.plot.scatter(x = \"Mask Number\", y = \"FITCratio\", c = \"b\")\n",
    "#Ascat = pdcellframe.plot.scatter(x = \"Mask Number\", y = \"ALEXAratio\", c = \"r\")\n",
    "\n",
    "#pdcellframe.plot(kind = 'scatter', x = \"Mask Number\", y = [\"DAPIratio\", \"FITCratio\"])\n",
    "\n",
    "#from pandas import plotly\n",
    "\n",
    "#pd.options.plotting.backend = \"plotly\"\n",
    "\n",
    "#df = pd.DataFrame(dict(a=[1,3,2], b=[3,2,1]))\n",
    "#fig = df.plot()\n",
    "#fig.show()\n",
    "\n",
    "fig = plt.figure()\n",
    "ax1 = fig.add_subplot(111)\n",
    "plt.xlabel(\"FITC\") #x label\n",
    "plt.ylabel(\"DAPI\") #y label\n",
    "# ax1.scatter(x = pdcellframe[\"Mask Number\"], y = pdcellframe[\"DAPIratio\"], s=10, c='b')\n",
    "# ax1.scatter(x = pdcellframe[\"Mask Number\"], y = pdcellframe[\"FITCratio\"], s=10, c='g')\n",
    "# plt.show()\n",
    "\n",
    "fig = plt.figure()\n",
    "ax2 = fig.add_subplot(111)\n",
    "plt.xlabel(\"FITC\") #x label\n",
    "plt.ylabel(\"ALEXA\") #y label\n",
    "\n",
    "# ax2.scatter(x = pdcellframe[\"Mask Number\"], y = pdcellframe[\"FITCratio\"], s=10, c='g')\n",
    "# ax2.scatter(x = pdcellframe[\"Mask Number\"], y = pdcellframe[\"ALEXAratio\"], s=10, c='r')\n",
    "# plt.show()\n",
    "\n",
    "fig = plt.figure()\n",
    "ax3 = fig.add_subplot(111)\n",
    "plt.xlabel(\"DAPI\") #x label\n",
    "plt.ylabel(\"ALEXA\") #y label\n",
    "\n",
    "# ax3.scatter(x = pdcellframe[\"Mask Number\"], y = pdcellframe[\"DAPIratio\"], s=10, c='b')\n",
    "# ax3.scatter(x = pdcellframe[\"Mask Number\"], y = pdcellframe[\"ALEXAratio\"], s=10, c='r')\n",
    "# plt.show()\n",
    "\n",
    "\n",
    "ax1.scatter(x = pdcellframe[\"FITCratio\"], y = pdcellframe[\"DAPIratio\"], s=10, c='b')\n",
    "ax2.scatter(x = pdcellframe[\"FITCratio\"], y = pdcellframe[\"ALEXAratio\"], s=10, c='g')\n",
    "ax3.scatter(x = pdcellframe[\"DAPIratio\"], y = pdcellframe[\"ALEXAratio\"], s=10, c='r')\n",
    "\n",
    "plt.show()"
   ]
  },
  {
   "cell_type": "code",
   "execution_count": 17,
   "metadata": {},
   "outputs": [
    {
     "data": {
      "image/png": "[encoded data removed]",
      "text/plain": [
       "<Figure size 432x288 with 1 Axes>"
      ]
     },
     "metadata": {
      "needs_background": "light"
     },
     "output_type": "display_data"
    }
   ],
   "source": [
    "\n",
    "def randrange(n, vmin, vmax):\n",
    "    \"\"\"\n",
    "    Helper function to make an array of random numbers having shape (n, )\n",
    "    with each number distributed Uniform(vmin, vmax).\n",
    "    \"\"\"\n",
    "    return (vmax - vmin)*np.random.rand(n) + vmin\n",
    "\n",
    "fig = plt.figure()\n",
    "ax = fig.add_subplot(projection='3d')\n",
    "\n",
    "n = 100\n",
    "\n",
    "# For each set of style and range settings, plot n random points in the box\n",
    "# defined by x in [23, 32], y in [0, 100], z in [zlow, zhigh].\n",
    "for m, zlow, zhigh in [('o', -50, -25), ('^', -30, -5)]:\n",
    "    xs = randrange(n, 23, 32)\n",
    "    ys = randrange(n, 0, 100)\n",
    "    zs = randrange(n, zlow, zhigh)\n",
    "    ax.scatter(xs, ys, zs, marker=m)\n",
    "\n",
    "ax.set_xlabel('X Label')\n",
    "ax.set_ylabel('Y Label')\n",
    "ax.set_zlabel('Z Label')\n",
    "\n",
    "plt.show()\n"
   ]
  },
  {
   "cell_type": "code",
   "execution_count": 18,
   "metadata": {},
   "outputs": [
    {
     "data": {
      "image/png": "[encoded data removed]",
      "text/plain": [
       "<Figure size 432x288 with 1 Axes>"
      ]
     },
     "metadata": {
      "needs_background": "light"
     },
     "output_type": "display_data"
    }
   ],
   "source": [
    "fig = plt.figure()\n",
    "ax = fig.add_subplot(projection='3d')\n",
    "#ax.scatter = seperate scatters\n",
    "ax.scatter(pdcellframe['DAPIratio'], pdcellframe['ALEXAratio'], pdcellframe['FITCratio'], c='r')\n",
    "ax.legend(['DAPI - Clean Intensity (Magnitude/px^2)', 'FITC - Clean Intensity (Magnitude/px^2)', 'Alexa 594 Clean (620-60) Intensity (Magnitude/px^2)'])\n",
    "ax.set_title('Ratio Graph')\n",
    "ax.set_xlabel('DAPI')\n",
    "ax.set_ylabel('ALEXA')\n",
    "ax.set_zlabel('FITC')\n",
    "plt.show()"
   ]
  },
  {
   "cell_type": "markdown",
   "metadata": {},
   "source": [
    "## Principal Component Analysis"
   ]
  },
  {
   "cell_type": "markdown",
   "metadata": {},
   "source": [
    "PCA is a dimension-reduction technique which can be extremely useful in identifying cell populations. In essence, it maximizes sum of the distances between datapoints to show the largest separation. The individual principal components are calculated by multiplying variables in different combinations. We will be using all columns as data sources to see if this provides better clustering.\n",
    "\n",
    "https://en.wikipedia.org/wiki/Principal_component_analysis"
   ]
  },
  {
   "cell_type": "markdown",
   "metadata": {},
   "source": [
    "![](Images/PCA.jpeg)"
   ]
  },
  {
   "cell_type": "markdown",
   "metadata": {},
   "source": [
    "1. Use the following code to plot a PCA representation of the dataframe."
   ]
  },
  {
   "cell_type": "code",
   "execution_count": 40,
   "metadata": {},
   "outputs": [
    {
     "ename": "AttributeError",
     "evalue": "'Series' object has no attribute 'reshape'",
     "output_type": "error",
     "traceback": [
      "\u001b[1;31m---------------------------------------------------------------------------\u001b[0m",
      "\u001b[1;31mAttributeError\u001b[0m                            Traceback (most recent call last)",
      "\u001b[1;32m<ipython-input-40-27b530045aa6>\u001b[0m in \u001b[0;36m<module>\u001b[1;34m\u001b[0m\n\u001b[0;32m      3\u001b[0m \u001b[0mlr\u001b[0m \u001b[1;33m=\u001b[0m \u001b[0mLinearRegression\u001b[0m\u001b[1;33m(\u001b[0m\u001b[1;33m)\u001b[0m\u001b[1;33m\u001b[0m\u001b[1;33m\u001b[0m\u001b[0m\n\u001b[0;32m      4\u001b[0m \u001b[0mpca\u001b[0m \u001b[1;33m=\u001b[0m \u001b[0mPCA\u001b[0m\u001b[1;33m(\u001b[0m\u001b[0mn_components\u001b[0m \u001b[1;33m=\u001b[0m \u001b[1;36m2\u001b[0m\u001b[1;33m)\u001b[0m\u001b[1;33m\u001b[0m\u001b[1;33m\u001b[0m\u001b[0m\n\u001b[1;32m----> 5\u001b[1;33m \u001b[0mlr\u001b[0m\u001b[1;33m.\u001b[0m\u001b[0mfit\u001b[0m\u001b[1;33m(\u001b[0m\u001b[0mpdcellframe\u001b[0m\u001b[1;33m[\u001b[0m\u001b[1;34m\"results\"\u001b[0m\u001b[1;33m]\u001b[0m\u001b[1;33m.\u001b[0m\u001b[0mreshape\u001b[0m\u001b[1;33m(\u001b[0m\u001b[1;33m-\u001b[0m\u001b[1;36m1\u001b[0m\u001b[1;33m,\u001b[0m \u001b[1;36m1\u001b[0m\u001b[1;33m)\u001b[0m\u001b[1;33m,\u001b[0m \u001b[0my\u001b[0m\u001b[1;33m)\u001b[0m\u001b[1;33m\u001b[0m\u001b[1;33m\u001b[0m\u001b[0m\n\u001b[0m\u001b[0;32m      6\u001b[0m \u001b[0mpca\u001b[0m\u001b[1;33m.\u001b[0m\u001b[0mfit\u001b[0m\u001b[1;33m(\u001b[0m\u001b[0mpdcellframe\u001b[0m\u001b[1;33m[\u001b[0m\u001b[1;34m\"results\"\u001b[0m\u001b[1;33m]\u001b[0m\u001b[1;33m)\u001b[0m\u001b[1;33m\u001b[0m\u001b[1;33m\u001b[0m\u001b[0m\n\u001b[0;32m      7\u001b[0m \u001b[1;33m\u001b[0m\u001b[0m\n",
      "\u001b[1;32m~\\anaconda3\\lib\\site-packages\\pandas\\core\\generic.py\u001b[0m in \u001b[0;36m__getattr__\u001b[1;34m(self, name)\u001b[0m\n\u001b[0;32m   5463\u001b[0m             \u001b[1;32mif\u001b[0m \u001b[0mself\u001b[0m\u001b[1;33m.\u001b[0m\u001b[0m_info_axis\u001b[0m\u001b[1;33m.\u001b[0m\u001b[0m_can_hold_identifiers_and_holds_name\u001b[0m\u001b[1;33m(\u001b[0m\u001b[0mname\u001b[0m\u001b[1;33m)\u001b[0m\u001b[1;33m:\u001b[0m\u001b[1;33m\u001b[0m\u001b[1;33m\u001b[0m\u001b[0m\n\u001b[0;32m   5464\u001b[0m                 \u001b[1;32mreturn\u001b[0m \u001b[0mself\u001b[0m\u001b[1;33m[\u001b[0m\u001b[0mname\u001b[0m\u001b[1;33m]\u001b[0m\u001b[1;33m\u001b[0m\u001b[1;33m\u001b[0m\u001b[0m\n\u001b[1;32m-> 5465\u001b[1;33m             \u001b[1;32mreturn\u001b[0m \u001b[0mobject\u001b[0m\u001b[1;33m.\u001b[0m\u001b[0m__getattribute__\u001b[0m\u001b[1;33m(\u001b[0m\u001b[0mself\u001b[0m\u001b[1;33m,\u001b[0m \u001b[0mname\u001b[0m\u001b[1;33m)\u001b[0m\u001b[1;33m\u001b[0m\u001b[1;33m\u001b[0m\u001b[0m\n\u001b[0m\u001b[0;32m   5466\u001b[0m \u001b[1;33m\u001b[0m\u001b[0m\n\u001b[0;32m   5467\u001b[0m     \u001b[1;32mdef\u001b[0m \u001b[0m__setattr__\u001b[0m\u001b[1;33m(\u001b[0m\u001b[0mself\u001b[0m\u001b[1;33m,\u001b[0m \u001b[0mname\u001b[0m\u001b[1;33m:\u001b[0m \u001b[0mstr\u001b[0m\u001b[1;33m,\u001b[0m \u001b[0mvalue\u001b[0m\u001b[1;33m)\u001b[0m \u001b[1;33m->\u001b[0m \u001b[1;32mNone\u001b[0m\u001b[1;33m:\u001b[0m\u001b[1;33m\u001b[0m\u001b[1;33m\u001b[0m\u001b[0m\n",
      "\u001b[1;31mAttributeError\u001b[0m: 'Series' object has no attribute 'reshape'"
     ]
    }
   ],
   "source": [
    "from sklearn.decomposition import PCA\n",
    "from sklearn.linear_model import LinearRegression\n",
    "lr = LinearRegression()\n",
    "pca = PCA(n_components = 2)\n",
    "lr.fit(pdcellframe[\"results\"].reshape(-1, 1), y)\n",
    "pca.fit(pdcellframe[\"results\"])\n",
    "\n",
    "\n",
    "x_pca = pca.transform(pdcellframe)\n",
    "\n",
    "print(x_pca.shape)\n",
    "\n",
    "print(pdcellframe.shape)\n",
    "\n",
    "plt.scatter(x_pca[:,0],x_pca[:,1])\n",
    "plt.xlabel('First Principal Component')\n",
    "plt.ylabel('Second Principal Component')"
   ]
  },
  {
   "cell_type": "markdown",
   "metadata": {},
   "source": [
    "2. Sometimes larger intensities can throw off the information hidden within smaller intensity cells. To counter this, we can try applying a logarithmic function to squash down the intensity values. Apply the log function to the intensity columns and recalculate the proportions. Then re-plot the PCA using the same method shown above."
   ]
  },
  {
   "cell_type": "code",
   "execution_count": 26,
   "metadata": {},
   "outputs": [
    {
     "data": {
      "text/plain": [
       "2.095903274289385"
      ]
     },
     "execution_count": 26,
     "metadata": {},
     "output_type": "execute_result"
    }
   ],
   "source": [
    "import math as m\n",
    "m.log(10, 3)\n",
    "\n",
    "\n",
    "# pca = PCA(n_components = 2)\n",
    "\n",
    "# pca.fit(pdcellframe[])\n",
    "\n",
    "# x_pca = pca.transform(pdcellframe)\n",
    "\n",
    "# print(x_pca.shape)\n",
    "\n",
    "# print(pdcellframe.shape)\n",
    "\n",
    "# plt.scatter(x_pca[:,0],x_pca[:,1])\n",
    "# plt.xlabel('First Principal Component')\n",
    "# plt.ylabel('Second Principal Component')"
   ]
  },
  {
   "cell_type": "markdown",
   "metadata": {},
   "source": [
    "## Clustering"
   ]
  },
  {
   "cell_type": "markdown",
   "metadata": {},
   "source": [
    "![](Images/kmeans.png)"
   ]
  },
  {
   "cell_type": "markdown",
   "metadata": {},
   "source": [
    "1. Choose the dataframe that produced the best separation when you plotted. Use k-means clustering to identify which cells apply to which population and add colors to the plots corresponding to the cell identity. https://scikit-learn.org/stable/modules/generated/sklearn.cluster.KMeans.html#sklearn.cluster.KMeans "
   ]
  },
  {
   "cell_type": "code",
   "execution_count": null,
   "metadata": {},
   "outputs": [],
   "source": []
  }
 ],
 "metadata": {
  "kernelspec": {
   "display_name": "Python 3",
   "language": "python",
   "name": "python3"
  },
  "language_info": {
   "codemirror_mode": {
    "name": "ipython",
    "version": 3
   },
   "file_extension": ".py",
   "mimetype": "text/x-python",
   "name": "python",
   "nbconvert_exporter": "python",
   "pygments_lexer": "ipython3",
   "version": "3.8.8"
  }
 },
 "nbformat": 4,
 "nbformat_minor": 4
}
